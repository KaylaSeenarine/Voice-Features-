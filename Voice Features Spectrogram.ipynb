{
 "cells": [
  {
   "cell_type": "code",
   "execution_count": 1,
   "id": "dc0fa968-cce6-4910-a747-6282a2e0cd4b",
   "metadata": {},
   "outputs": [
    {
     "name": "stdout",
     "output_type": "stream",
     "text": [
      "Requirement already satisfied: librosa in c:\\users\\kayla seenarine\\anaconda3\\anaconda 3 new folder\\lib\\site-packages (0.11.0)\n",
      "Requirement already satisfied: matplotlib in c:\\users\\kayla seenarine\\anaconda3\\anaconda 3 new folder\\lib\\site-packages (3.9.2)\n",
      "Requirement already satisfied: numpy in c:\\users\\kayla seenarine\\anaconda3\\anaconda 3 new folder\\lib\\site-packages (1.26.4)\n",
      "Requirement already satisfied: praat-parselmouth in c:\\users\\kayla seenarine\\anaconda3\\anaconda 3 new folder\\lib\\site-packages (0.4.5)\n",
      "Requirement already satisfied: pandas in c:\\users\\kayla seenarine\\anaconda3\\anaconda 3 new folder\\lib\\site-packages (2.2.2)\n",
      "Requirement already satisfied: audioread>=2.1.9 in c:\\users\\kayla seenarine\\anaconda3\\anaconda 3 new folder\\lib\\site-packages (from librosa) (3.0.1)\n",
      "Requirement already satisfied: numba>=0.51.0 in c:\\users\\kayla seenarine\\anaconda3\\anaconda 3 new folder\\lib\\site-packages (from librosa) (0.60.0)\n",
      "Requirement already satisfied: scipy>=1.6.0 in c:\\users\\kayla seenarine\\anaconda3\\anaconda 3 new folder\\lib\\site-packages (from librosa) (1.13.1)\n",
      "Requirement already satisfied: scikit-learn>=1.1.0 in c:\\users\\kayla seenarine\\anaconda3\\anaconda 3 new folder\\lib\\site-packages (from librosa) (1.5.1)\n",
      "Requirement already satisfied: joblib>=1.0 in c:\\users\\kayla seenarine\\anaconda3\\anaconda 3 new folder\\lib\\site-packages (from librosa) (1.4.2)\n",
      "Requirement already satisfied: decorator>=4.3.0 in c:\\users\\kayla seenarine\\anaconda3\\anaconda 3 new folder\\lib\\site-packages (from librosa) (5.1.1)\n",
      "Requirement already satisfied: soundfile>=0.12.1 in c:\\users\\kayla seenarine\\anaconda3\\anaconda 3 new folder\\lib\\site-packages (from librosa) (0.13.1)\n",
      "Requirement already satisfied: pooch>=1.1 in c:\\users\\kayla seenarine\\anaconda3\\anaconda 3 new folder\\lib\\site-packages (from librosa) (1.8.2)\n",
      "Requirement already satisfied: soxr>=0.3.2 in c:\\users\\kayla seenarine\\anaconda3\\anaconda 3 new folder\\lib\\site-packages (from librosa) (0.5.0.post1)\n",
      "Requirement already satisfied: typing_extensions>=4.1.1 in c:\\users\\kayla seenarine\\anaconda3\\anaconda 3 new folder\\lib\\site-packages (from librosa) (4.11.0)\n",
      "Requirement already satisfied: lazy_loader>=0.1 in c:\\users\\kayla seenarine\\anaconda3\\anaconda 3 new folder\\lib\\site-packages (from librosa) (0.4)\n",
      "Requirement already satisfied: msgpack>=1.0 in c:\\users\\kayla seenarine\\anaconda3\\anaconda 3 new folder\\lib\\site-packages (from librosa) (1.0.3)\n",
      "Requirement already satisfied: contourpy>=1.0.1 in c:\\users\\kayla seenarine\\anaconda3\\anaconda 3 new folder\\lib\\site-packages (from matplotlib) (1.2.0)\n",
      "Requirement already satisfied: cycler>=0.10 in c:\\users\\kayla seenarine\\anaconda3\\anaconda 3 new folder\\lib\\site-packages (from matplotlib) (0.11.0)\n",
      "Requirement already satisfied: fonttools>=4.22.0 in c:\\users\\kayla seenarine\\anaconda3\\anaconda 3 new folder\\lib\\site-packages (from matplotlib) (4.51.0)\n",
      "Requirement already satisfied: kiwisolver>=1.3.1 in c:\\users\\kayla seenarine\\anaconda3\\anaconda 3 new folder\\lib\\site-packages (from matplotlib) (1.4.4)\n",
      "Requirement already satisfied: packaging>=20.0 in c:\\users\\kayla seenarine\\anaconda3\\anaconda 3 new folder\\lib\\site-packages (from matplotlib) (24.1)\n",
      "Requirement already satisfied: pillow>=8 in c:\\users\\kayla seenarine\\anaconda3\\anaconda 3 new folder\\lib\\site-packages (from matplotlib) (10.4.0)\n",
      "Requirement already satisfied: pyparsing>=2.3.1 in c:\\users\\kayla seenarine\\anaconda3\\anaconda 3 new folder\\lib\\site-packages (from matplotlib) (3.1.2)\n",
      "Requirement already satisfied: python-dateutil>=2.7 in c:\\users\\kayla seenarine\\anaconda3\\anaconda 3 new folder\\lib\\site-packages (from matplotlib) (2.9.0.post0)\n",
      "Requirement already satisfied: pytz>=2020.1 in c:\\users\\kayla seenarine\\anaconda3\\anaconda 3 new folder\\lib\\site-packages (from pandas) (2024.1)\n",
      "Requirement already satisfied: tzdata>=2022.7 in c:\\users\\kayla seenarine\\anaconda3\\anaconda 3 new folder\\lib\\site-packages (from pandas) (2023.3)\n",
      "Requirement already satisfied: llvmlite<0.44,>=0.43.0dev0 in c:\\users\\kayla seenarine\\anaconda3\\anaconda 3 new folder\\lib\\site-packages (from numba>=0.51.0->librosa) (0.43.0)\n",
      "Requirement already satisfied: platformdirs>=2.5.0 in c:\\users\\kayla seenarine\\anaconda3\\anaconda 3 new folder\\lib\\site-packages (from pooch>=1.1->librosa) (3.10.0)\n",
      "Requirement already satisfied: requests>=2.19.0 in c:\\users\\kayla seenarine\\anaconda3\\anaconda 3 new folder\\lib\\site-packages (from pooch>=1.1->librosa) (2.32.3)\n",
      "Requirement already satisfied: six>=1.5 in c:\\users\\kayla seenarine\\anaconda3\\anaconda 3 new folder\\lib\\site-packages (from python-dateutil>=2.7->matplotlib) (1.16.0)\n",
      "Requirement already satisfied: threadpoolctl>=3.1.0 in c:\\users\\kayla seenarine\\anaconda3\\anaconda 3 new folder\\lib\\site-packages (from scikit-learn>=1.1.0->librosa) (3.5.0)\n",
      "Requirement already satisfied: cffi>=1.0 in c:\\users\\kayla seenarine\\anaconda3\\anaconda 3 new folder\\lib\\site-packages (from soundfile>=0.12.1->librosa) (1.17.1)\n",
      "Requirement already satisfied: pycparser in c:\\users\\kayla seenarine\\anaconda3\\anaconda 3 new folder\\lib\\site-packages (from cffi>=1.0->soundfile>=0.12.1->librosa) (2.21)\n",
      "Requirement already satisfied: charset-normalizer<4,>=2 in c:\\users\\kayla seenarine\\anaconda3\\anaconda 3 new folder\\lib\\site-packages (from requests>=2.19.0->pooch>=1.1->librosa) (3.3.2)\n",
      "Requirement already satisfied: idna<4,>=2.5 in c:\\users\\kayla seenarine\\anaconda3\\anaconda 3 new folder\\lib\\site-packages (from requests>=2.19.0->pooch>=1.1->librosa) (3.7)\n",
      "Requirement already satisfied: urllib3<3,>=1.21.1 in c:\\users\\kayla seenarine\\anaconda3\\anaconda 3 new folder\\lib\\site-packages (from requests>=2.19.0->pooch>=1.1->librosa) (2.2.3)\n",
      "Requirement already satisfied: certifi>=2017.4.17 in c:\\users\\kayla seenarine\\anaconda3\\anaconda 3 new folder\\lib\\site-packages (from requests>=2.19.0->pooch>=1.1->librosa) (2024.8.30)\n"
     ]
    }
   ],
   "source": [
    "# === Setup Instructions ===\n",
    "# Before running this script, make sure you have the following packages installed:\n",
    "!pip install librosa matplotlib numpy praat-parselmouth pandas"
   ]
  },
  {
   "cell_type": "code",
   "execution_count": null,
   "id": "93364e30-9002-4445-8523-4c29d85ecd15",
   "metadata": {},
   "outputs": [],
   "source": [
    "try:\n",
    "    import librosa\n",
    "    import matplotlib\n",
    "    import numpy\n",
    "    import parselmouth\n",
    "    import pandas\n",
    "    print(\"✅ All required libraries are already installed.\")\n",
    "except ImportError:\n",
    "    print(\"🔧 Installing missing packages...\")\n",
    "    !pip install -q librosa matplotlib numpy praat-parselmouth pandas\n",
    "\n",
    "    # Try again to confirm\n",
    "    try:\n",
    "        import librosa\n",
    "        import matplotlib\n",
    "        import numpy\n",
    "        import parselmouth\n",
    "        import pandas\n",
    "        print(\"✅ Installation complete. All libraries are ready!\")\n",
    "    except ImportError as e:\n",
    "        print(\"❌ Something went wrong during installation:\", e)"
   ]
  },
  {
   "cell_type": "code",
   "execution_count": 3,
   "id": "fcf247cb-a477-4a17-9e70-9cbc358a6030",
   "metadata": {},
   "outputs": [
    {
     "name": "stdin",
     "output_type": "stream",
     "text": [
      "🎤 Enter the path to your .wav file (or press Enter to use the default sample):  \"C:\\Users\\Kayla Seenarine\\OneDrive\\Email attachments\\Documents\\audiology Testing and Diagnosis\\Aral Rehab\\Coding Course\\projects\\audio files\\wav\\I'm really happy to see you (happy).wav\"\n"
     ]
    },
    {
     "name": "stdout",
     "output_type": "stream",
     "text": [
      "📂 Using custom file: C:\\Users\\Kayla Seenarine\\OneDrive\\Email attachments\\Documents\\audiology Testing and Diagnosis\\Aral Rehab\\Coding Course\\projects\\audio files\\wav\\I'm really happy to see you (happy).wav\n",
      "✅ Audio file loaded successfully and ready for analysis!\n"
     ]
    }
   ],
   "source": [
    "# === Audio File Input ===\n",
    "import os\n",
    "\n",
    "# Prompt user for file path\n",
    "user_input = input(\"🎤 Enter the path to your .wav file (or press Enter to use the default sample): \")\n",
    "\n",
    "# Handle default vs custom path\n",
    "if not user_input.strip():\n",
    "    file_path = os.path.join(\"samples\", \"sample_audio.wav\")\n",
    "    print(f\"📂 Using default file: {file_path}\")\n",
    "else:\n",
    "    # Strip spaces and extra quotes if user pasted with quotes\n",
    "    file_path = user_input.strip().strip('\"')\n",
    "    print(f\"📂 Using custom file: {file_path}\")\n",
    "\n",
    "# Validate file path\n",
    "if not os.path.isfile(file_path):\n",
    "    raise FileNotFoundError(f\"❌ File not found: {file_path}\")\n",
    "\n",
    "# Confirm successful connection\n",
    "print(\"✅ Audio file loaded successfully and ready for analysis!\")"
   ]
  },
  {
   "cell_type": "code",
   "execution_count": 4,
   "id": "2d094b06-3c51-415f-b8a2-93c686196851",
   "metadata": {},
   "outputs": [],
   "source": [
    "import numpy as np"
   ]
  },
  {
   "cell_type": "code",
   "execution_count": null,
   "id": "e052d212-37f4-4bdd-a75a-c2d086bc0773",
   "metadata": {},
   "outputs": [],
   "source": [
    "# === Load and Analyze Audio ===\n",
    "y, sr = librosa.load(file_path)\n",
    "snd = parselmouth.Sound(file_path)\n",
    "\n",
    "# Spectrogram\n",
    "S = librosa.stft(y)\n",
    "S_db = librosa.amplitude_to_db(abs(S))\n",
    "\n",
    "# Pitch (YIN algorithm)\n",
    "pitch = librosa.yin(y, fmin=75, fmax=300)\n",
    "\n",
    "# Formants (Praat Burg method)\n",
    "formants = snd.to_formant_burg()\n",
    "times = np.linspace(0, snd.duration, 100)\n",
    "f1 = [formants.get_value_at_time(1, t) for t in times]\n",
    "f2 = [formants.get_value_at_time(2, t) for t in times]\n",
    "f3 = [formants.get_value_at_time(3, t) for t in times]\n",
    "\n",
    "print(\"✅ Pitch and formants extracted successfully!\")\n"
   ]
  },
  {
   "cell_type": "code",
   "execution_count": null,
   "id": "aa2434e8-5c51-4544-9955-843b59446e99",
   "metadata": {},
   "outputs": [],
   "source": [
    "import pandas as pd\n",
    "\n",
    "# Match pitch to formant times (use interpolation)\n",
    "pitch_interp = np.interp(times, librosa.times_like(pitch), pitch)\n",
    "\n",
    "# Create a DataFrame\n",
    "df = pd.DataFrame({\n",
    "    \"time\": times,\n",
    "    \"pitch\": pitch_interp,\n",
    "    \"F1\": f1,\n",
    "    \"F2\": f2,\n",
    "    \"F3\": f3\n",
    "})\n",
    "\n",
    "# Save to CSV\n",
    "csv_path = \"voice_features.csv\"\n",
    "df.to_csv(csv_path, index=False)\n",
    "print(f\"✅ Features saved to: {csv_path}\")"
   ]
  },
  {
   "cell_type": "code",
   "execution_count": null,
   "id": "bb019e73-dc17-4901-a87c-5487a5075708",
   "metadata": {},
   "outputs": [],
   "source": [
    "import matplotlib.pyplot as plt\n",
    "import librosa.display\n",
    "\n",
    "# === Plot Spectrogram with Pitch and Formants ===\n",
    "plt.figure(figsize=(14, 6))\n",
    "\n",
    "# Spectrogram background\n",
    "librosa.display.specshow(S_db, sr=sr, x_axis='time', y_axis='hz', cmap='magma')\n",
    "\n",
    "# Pitch\n",
    "plt.plot(librosa.times_like(pitch), pitch, color='cyan', linewidth=2, label='Pitch')\n",
    "\n",
    "# Formants\n",
    "plt.plot(times, f1, color='lime', linestyle='--', linewidth=1.5, label='Formant 1 (F1)')\n",
    "plt.plot(times, f2, color='deepskyblue', linestyle='--', linewidth=1.5, label='Formant 2 (F2)')\n",
    "plt.plot(times, f3, color='violet', linestyle='--', linewidth=1.5, label='Formant 3 (F3)')\n",
    "\n",
    "# Labels\n",
    "plt.colorbar(format=\"%+2.0f dB\")\n",
    "plt.title(\"Spectrogram with Pitch and Formants\")\n",
    "plt.xlabel(\"Time (s)\")\n",
    "plt.ylabel(\"Frequency (Hz)\")\n",
    "plt.legend(loc='upper right')\n",
    "plt.tight_layout()\n",
    "plt.show()\n"
   ]
  },
  {
   "cell_type": "code",
   "execution_count": null,
   "id": "9c398aad-0487-425d-9bc1-a2b14afcb753",
   "metadata": {},
   "outputs": [],
   "source": []
  }
 ],
 "metadata": {
  "kernelspec": {
   "display_name": "Python 3 (ipykernel)",
   "language": "python",
   "name": "python3"
  },
  "language_info": {
   "codemirror_mode": {
    "name": "ipython",
    "version": 3
   },
   "file_extension": ".py",
   "mimetype": "text/x-python",
   "name": "python",
   "nbconvert_exporter": "python",
   "pygments_lexer": "ipython3",
   "version": "3.12.7"
  }
 },
 "nbformat": 4,
 "nbformat_minor": 5
}
